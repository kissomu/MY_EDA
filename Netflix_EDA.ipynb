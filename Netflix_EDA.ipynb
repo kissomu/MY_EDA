{
  "nbformat": 4,
  "nbformat_minor": 0,
  "metadata": {
    "colab": {
      "name": "Netflix-EDA.ipynb",
      "provenance": []
    },
    "kernelspec": {
      "name": "python3",
      "display_name": "Python 3"
    },
    "language_info": {
      "name": "python"
    }
  },
  "cells": [
    {
      "cell_type": "code",
      "execution_count": 15,
      "metadata": {
        "id": "INWAuDvni4rv"
      },
      "outputs": [],
      "source": [
        "import pandas as pd\n",
        "import matplotlib.pyplot as plt\n",
        "import seaborn as sns \n",
        "import numpy as np\n"
      ]
    },
    {
      "cell_type": "code",
      "source": [
        "df =pd.read_csv('/content/Netflix subscription fee Dec-2021.csv')"
      ],
      "metadata": {
        "id": "2skUp9uCjDvk"
      },
      "execution_count": 16,
      "outputs": []
    },
    {
      "cell_type": "code",
      "source": [
        "df.shape"
      ],
      "metadata": {
        "colab": {
          "base_uri": "https://localhost:8080/"
        },
        "id": "Yr32THHBjHPv",
        "outputId": "161d814c-ea64-4333-f830-6ecb0204652a"
      },
      "execution_count": 17,
      "outputs": [
        {
          "output_type": "execute_result",
          "data": {
            "text/plain": [
              "(65, 8)"
            ]
          },
          "metadata": {},
          "execution_count": 17
        }
      ]
    },
    {
      "cell_type": "code",
      "source": [
        "df.dtypes"
      ],
      "metadata": {
        "colab": {
          "base_uri": "https://localhost:8080/"
        },
        "id": "Vy7N8qmDjM5h",
        "outputId": "701499cb-4d6f-4ece-fa3a-1ba4b868c117"
      },
      "execution_count": 18,
      "outputs": [
        {
          "output_type": "execute_result",
          "data": {
            "text/plain": [
              "Country_code                      object\n",
              "Country                           object\n",
              "Total Library Size                 int64\n",
              "No. of TV Shows                    int64\n",
              "No. of Movies                      int64\n",
              "Cost Per Month - Basic ($)       float64\n",
              "Cost Per Month - Standard ($)    float64\n",
              "Cost Per Month - Premium ($)     float64\n",
              "dtype: object"
            ]
          },
          "metadata": {},
          "execution_count": 18
        }
      ]
    },
    {
      "cell_type": "code",
      "source": [
        "df.describe(include='object')"
      ],
      "metadata": {
        "colab": {
          "base_uri": "https://localhost:8080/",
          "height": 175
        },
        "id": "mLvrRSSajSGS",
        "outputId": "8c910a3c-fa0d-4719-b11b-9c2e1dd08213"
      },
      "execution_count": 19,
      "outputs": [
        {
          "output_type": "execute_result",
          "data": {
            "text/html": [
              "\n",
              "  <div id=\"df-c1c12171-495e-45b2-8012-e2c067ebce4b\">\n",
              "    <div class=\"colab-df-container\">\n",
              "      <div>\n",
              "<style scoped>\n",
              "    .dataframe tbody tr th:only-of-type {\n",
              "        vertical-align: middle;\n",
              "    }\n",
              "\n",
              "    .dataframe tbody tr th {\n",
              "        vertical-align: top;\n",
              "    }\n",
              "\n",
              "    .dataframe thead th {\n",
              "        text-align: right;\n",
              "    }\n",
              "</style>\n",
              "<table border=\"1\" class=\"dataframe\">\n",
              "  <thead>\n",
              "    <tr style=\"text-align: right;\">\n",
              "      <th></th>\n",
              "      <th>Country_code</th>\n",
              "      <th>Country</th>\n",
              "    </tr>\n",
              "  </thead>\n",
              "  <tbody>\n",
              "    <tr>\n",
              "      <th>count</th>\n",
              "      <td>65</td>\n",
              "      <td>65</td>\n",
              "    </tr>\n",
              "    <tr>\n",
              "      <th>unique</th>\n",
              "      <td>65</td>\n",
              "      <td>65</td>\n",
              "    </tr>\n",
              "    <tr>\n",
              "      <th>top</th>\n",
              "      <td>ie</td>\n",
              "      <td>Peru</td>\n",
              "    </tr>\n",
              "    <tr>\n",
              "      <th>freq</th>\n",
              "      <td>1</td>\n",
              "      <td>1</td>\n",
              "    </tr>\n",
              "  </tbody>\n",
              "</table>\n",
              "</div>\n",
              "      <button class=\"colab-df-convert\" onclick=\"convertToInteractive('df-c1c12171-495e-45b2-8012-e2c067ebce4b')\"\n",
              "              title=\"Convert this dataframe to an interactive table.\"\n",
              "              style=\"display:none;\">\n",
              "        \n",
              "  <svg xmlns=\"http://www.w3.org/2000/svg\" height=\"24px\"viewBox=\"0 0 24 24\"\n",
              "       width=\"24px\">\n",
              "    <path d=\"M0 0h24v24H0V0z\" fill=\"none\"/>\n",
              "    <path d=\"M18.56 5.44l.94 2.06.94-2.06 2.06-.94-2.06-.94-.94-2.06-.94 2.06-2.06.94zm-11 1L8.5 8.5l.94-2.06 2.06-.94-2.06-.94L8.5 2.5l-.94 2.06-2.06.94zm10 10l.94 2.06.94-2.06 2.06-.94-2.06-.94-.94-2.06-.94 2.06-2.06.94z\"/><path d=\"M17.41 7.96l-1.37-1.37c-.4-.4-.92-.59-1.43-.59-.52 0-1.04.2-1.43.59L10.3 9.45l-7.72 7.72c-.78.78-.78 2.05 0 2.83L4 21.41c.39.39.9.59 1.41.59.51 0 1.02-.2 1.41-.59l7.78-7.78 2.81-2.81c.8-.78.8-2.07 0-2.86zM5.41 20L4 18.59l7.72-7.72 1.47 1.35L5.41 20z\"/>\n",
              "  </svg>\n",
              "      </button>\n",
              "      \n",
              "  <style>\n",
              "    .colab-df-container {\n",
              "      display:flex;\n",
              "      flex-wrap:wrap;\n",
              "      gap: 12px;\n",
              "    }\n",
              "\n",
              "    .colab-df-convert {\n",
              "      background-color: #E8F0FE;\n",
              "      border: none;\n",
              "      border-radius: 50%;\n",
              "      cursor: pointer;\n",
              "      display: none;\n",
              "      fill: #1967D2;\n",
              "      height: 32px;\n",
              "      padding: 0 0 0 0;\n",
              "      width: 32px;\n",
              "    }\n",
              "\n",
              "    .colab-df-convert:hover {\n",
              "      background-color: #E2EBFA;\n",
              "      box-shadow: 0px 1px 2px rgba(60, 64, 67, 0.3), 0px 1px 3px 1px rgba(60, 64, 67, 0.15);\n",
              "      fill: #174EA6;\n",
              "    }\n",
              "\n",
              "    [theme=dark] .colab-df-convert {\n",
              "      background-color: #3B4455;\n",
              "      fill: #D2E3FC;\n",
              "    }\n",
              "\n",
              "    [theme=dark] .colab-df-convert:hover {\n",
              "      background-color: #434B5C;\n",
              "      box-shadow: 0px 1px 3px 1px rgba(0, 0, 0, 0.15);\n",
              "      filter: drop-shadow(0px 1px 2px rgba(0, 0, 0, 0.3));\n",
              "      fill: #FFFFFF;\n",
              "    }\n",
              "  </style>\n",
              "\n",
              "      <script>\n",
              "        const buttonEl =\n",
              "          document.querySelector('#df-c1c12171-495e-45b2-8012-e2c067ebce4b button.colab-df-convert');\n",
              "        buttonEl.style.display =\n",
              "          google.colab.kernel.accessAllowed ? 'block' : 'none';\n",
              "\n",
              "        async function convertToInteractive(key) {\n",
              "          const element = document.querySelector('#df-c1c12171-495e-45b2-8012-e2c067ebce4b');\n",
              "          const dataTable =\n",
              "            await google.colab.kernel.invokeFunction('convertToInteractive',\n",
              "                                                     [key], {});\n",
              "          if (!dataTable) return;\n",
              "\n",
              "          const docLinkHtml = 'Like what you see? Visit the ' +\n",
              "            '<a target=\"_blank\" href=https://colab.research.google.com/notebooks/data_table.ipynb>data table notebook</a>'\n",
              "            + ' to learn more about interactive tables.';\n",
              "          element.innerHTML = '';\n",
              "          dataTable['output_type'] = 'display_data';\n",
              "          await google.colab.output.renderOutput(dataTable, element);\n",
              "          const docLink = document.createElement('div');\n",
              "          docLink.innerHTML = docLinkHtml;\n",
              "          element.appendChild(docLink);\n",
              "        }\n",
              "      </script>\n",
              "    </div>\n",
              "  </div>\n",
              "  "
            ],
            "text/plain": [
              "       Country_code Country\n",
              "count            65      65\n",
              "unique           65      65\n",
              "top              ie    Peru\n",
              "freq              1       1"
            ]
          },
          "metadata": {},
          "execution_count": 19
        }
      ]
    },
    {
      "cell_type": "code",
      "source": [
        "df['Country_code'].unique()"
      ],
      "metadata": {
        "colab": {
          "base_uri": "https://localhost:8080/"
        },
        "id": "-2L6xvw6jWeE",
        "outputId": "ace99448-2bc6-4652-df1b-754d3f860cd1"
      },
      "execution_count": 20,
      "outputs": [
        {
          "output_type": "execute_result",
          "data": {
            "text/plain": [
              "array(['ar', 'au', 'at', 'be', 'bo', 'br', 'bg', 'ca', 'cl', 'co', 'cr',\n",
              "       'hr', 'cz', 'dk', 'ec', 'ee', 'fi', 'fr', 'de', 'gi', 'gr', 'gt',\n",
              "       'hn', 'hk', 'hu', 'is', 'in', 'id', 'ie', 'il', 'it', 'jp', 'lv',\n",
              "       'li', 'lt', 'my', 'mx', 'md', 'mc', 'nl', 'nz', 'no', 'py', 'pe',\n",
              "       'ph', 'pl', 'pt', 'ro', 'ru', 'sm', 'sg', 'sk', 'za', 'kr', 'es',\n",
              "       'se', 'ch', 'tw', 'th', 'tr', 'ua', 'gb', 'us', 'uy', 've'],\n",
              "      dtype=object)"
            ]
          },
          "metadata": {},
          "execution_count": 20
        }
      ]
    },
    {
      "cell_type": "code",
      "source": [
        "df['Country'].unique()"
      ],
      "metadata": {
        "colab": {
          "base_uri": "https://localhost:8080/"
        },
        "id": "ztVJ_VvGjXGq",
        "outputId": "7e5d0cad-5eb8-47f2-fb4d-88920cc2c4c3"
      },
      "execution_count": 21,
      "outputs": [
        {
          "output_type": "execute_result",
          "data": {
            "text/plain": [
              "array(['Argentina', 'Australia', 'Austria', 'Belgium', 'Bolivia',\n",
              "       'Brazil', 'Bulgaria', 'Canada', 'Chile', 'Colombia', 'Costa Rica',\n",
              "       'Croatia', 'Czechia', 'Denmark', 'Ecuador', 'Estonia', 'Finland',\n",
              "       'France', 'Germany', 'Gibraltar', 'Greece', 'Guatemala',\n",
              "       'Honduras', 'Hong Kong', 'Hungary', 'Iceland', 'India',\n",
              "       'Indonesia', 'Ireland', 'Israel', 'Italy', 'Japan', 'Latvia',\n",
              "       'Liechtenstein', 'Lithuania', 'Malaysia', 'Mexico', 'Moldova',\n",
              "       'Monaco', 'Netherlands', 'New Zealand', 'Norway', 'Paraguay',\n",
              "       'Peru', 'Philippines', 'Poland', 'Portugal', 'Romania', 'Russia',\n",
              "       'San Marino', 'Singapore', 'Slovakia', 'South Africa',\n",
              "       'South Korea', 'Spain', 'Sweden', 'Switzerland', 'Taiwan',\n",
              "       'Thailand', 'Turkey', 'Ukraine', 'United Kingdom', 'United States',\n",
              "       'Uruguay', 'Venezuela'], dtype=object)"
            ]
          },
          "metadata": {},
          "execution_count": 21
        }
      ]
    },
    {
      "cell_type": "code",
      "source": [
        ""
      ],
      "metadata": {
        "id": "hYxP0MJhjwPa"
      },
      "execution_count": 21,
      "outputs": []
    },
    {
      "cell_type": "code",
      "source": [
        "df.rename(columns=\n",
        "        {'Country': 'country' ,\n",
        "        'Total Library Size': 'total_library_size', \n",
        "        'No. of TV Shows': 'n_of_shows', \n",
        "        'No. of Movies': 'n_of_movies',\n",
        "        'Cost Per Month - Basic ($)': 'cpm_basic', \n",
        "        'Cost Per Month - Standard ($)': 'cpm_standart', \n",
        "        'Cost Per Month - Premium ($)': 'cpm_premium'}, inplace=True)"
      ],
      "metadata": {
        "id": "AJe3FCoNjdVT"
      },
      "execution_count": 22,
      "outputs": []
    },
    {
      "cell_type": "code",
      "source": [
        "columns = df.columns\n",
        "columns"
      ],
      "metadata": {
        "colab": {
          "base_uri": "https://localhost:8080/"
        },
        "id": "aL6iEM94jfE_",
        "outputId": "5673f8be-f783-4ba4-9e8a-a8300d5ab5c4"
      },
      "execution_count": 23,
      "outputs": [
        {
          "output_type": "execute_result",
          "data": {
            "text/plain": [
              "Index(['Country_code', 'country', 'total_library_size', 'n_of_shows',\n",
              "       'n_of_movies', 'cpm_basic', 'cpm_standart', 'cpm_premium'],\n",
              "      dtype='object')"
            ]
          },
          "metadata": {},
          "execution_count": 23
        }
      ]
    },
    {
      "cell_type": "code",
      "source": [
        "# number of null values in each columns \n",
        "for i in columns:\n",
        "    count =0\n",
        "    k = df[i].isnull()\n",
        "    for m in k:\n",
        "        if m == True :\n",
        "            count = count +1\n",
        "    print(i ,\" = \",count)"
      ],
      "metadata": {
        "colab": {
          "base_uri": "https://localhost:8080/"
        },
        "id": "OG4t5lc4jkz1",
        "outputId": "886faa51-f482-4203-ffc1-32f51447cff1"
      },
      "execution_count": 24,
      "outputs": [
        {
          "output_type": "stream",
          "name": "stdout",
          "text": [
            "Country_code  =  0\n",
            "country  =  0\n",
            "total_library_size  =  0\n",
            "n_of_shows  =  0\n",
            "n_of_movies  =  0\n",
            "cpm_basic  =  0\n",
            "cpm_standart  =  0\n",
            "cpm_premium  =  0\n"
          ]
        }
      ]
    },
    {
      "cell_type": "code",
      "source": [
        "df.corr()"
      ],
      "metadata": {
        "colab": {
          "base_uri": "https://localhost:8080/",
          "height": 238
        },
        "id": "h0D0vemsjpox",
        "outputId": "c2d71f0d-4dff-448c-829e-2c2c91470853"
      },
      "execution_count": 25,
      "outputs": [
        {
          "output_type": "execute_result",
          "data": {
            "text/html": [
              "\n",
              "  <div id=\"df-b706fc58-0507-4db7-a110-232630ee7b9d\">\n",
              "    <div class=\"colab-df-container\">\n",
              "      <div>\n",
              "<style scoped>\n",
              "    .dataframe tbody tr th:only-of-type {\n",
              "        vertical-align: middle;\n",
              "    }\n",
              "\n",
              "    .dataframe tbody tr th {\n",
              "        vertical-align: top;\n",
              "    }\n",
              "\n",
              "    .dataframe thead th {\n",
              "        text-align: right;\n",
              "    }\n",
              "</style>\n",
              "<table border=\"1\" class=\"dataframe\">\n",
              "  <thead>\n",
              "    <tr style=\"text-align: right;\">\n",
              "      <th></th>\n",
              "      <th>total_library_size</th>\n",
              "      <th>n_of_shows</th>\n",
              "      <th>n_of_movies</th>\n",
              "      <th>cpm_basic</th>\n",
              "      <th>cpm_standart</th>\n",
              "      <th>cpm_premium</th>\n",
              "    </tr>\n",
              "  </thead>\n",
              "  <tbody>\n",
              "    <tr>\n",
              "      <th>total_library_size</th>\n",
              "      <td>1.000000</td>\n",
              "      <td>0.971146</td>\n",
              "      <td>0.849957</td>\n",
              "      <td>-0.062877</td>\n",
              "      <td>-0.055200</td>\n",
              "      <td>-0.071521</td>\n",
              "    </tr>\n",
              "    <tr>\n",
              "      <th>n_of_shows</th>\n",
              "      <td>0.971146</td>\n",
              "      <td>1.000000</td>\n",
              "      <td>0.699786</td>\n",
              "      <td>-0.003814</td>\n",
              "      <td>0.002285</td>\n",
              "      <td>-0.011100</td>\n",
              "    </tr>\n",
              "    <tr>\n",
              "      <th>n_of_movies</th>\n",
              "      <td>0.849957</td>\n",
              "      <td>0.699786</td>\n",
              "      <td>1.000000</td>\n",
              "      <td>-0.179913</td>\n",
              "      <td>-0.170391</td>\n",
              "      <td>-0.189711</td>\n",
              "    </tr>\n",
              "    <tr>\n",
              "      <th>cpm_basic</th>\n",
              "      <td>-0.062877</td>\n",
              "      <td>-0.003814</td>\n",
              "      <td>-0.179913</td>\n",
              "      <td>1.000000</td>\n",
              "      <td>0.898535</td>\n",
              "      <td>0.820914</td>\n",
              "    </tr>\n",
              "    <tr>\n",
              "      <th>cpm_standart</th>\n",
              "      <td>-0.055200</td>\n",
              "      <td>0.002285</td>\n",
              "      <td>-0.170391</td>\n",
              "      <td>0.898535</td>\n",
              "      <td>1.000000</td>\n",
              "      <td>0.978768</td>\n",
              "    </tr>\n",
              "    <tr>\n",
              "      <th>cpm_premium</th>\n",
              "      <td>-0.071521</td>\n",
              "      <td>-0.011100</td>\n",
              "      <td>-0.189711</td>\n",
              "      <td>0.820914</td>\n",
              "      <td>0.978768</td>\n",
              "      <td>1.000000</td>\n",
              "    </tr>\n",
              "  </tbody>\n",
              "</table>\n",
              "</div>\n",
              "      <button class=\"colab-df-convert\" onclick=\"convertToInteractive('df-b706fc58-0507-4db7-a110-232630ee7b9d')\"\n",
              "              title=\"Convert this dataframe to an interactive table.\"\n",
              "              style=\"display:none;\">\n",
              "        \n",
              "  <svg xmlns=\"http://www.w3.org/2000/svg\" height=\"24px\"viewBox=\"0 0 24 24\"\n",
              "       width=\"24px\">\n",
              "    <path d=\"M0 0h24v24H0V0z\" fill=\"none\"/>\n",
              "    <path d=\"M18.56 5.44l.94 2.06.94-2.06 2.06-.94-2.06-.94-.94-2.06-.94 2.06-2.06.94zm-11 1L8.5 8.5l.94-2.06 2.06-.94-2.06-.94L8.5 2.5l-.94 2.06-2.06.94zm10 10l.94 2.06.94-2.06 2.06-.94-2.06-.94-.94-2.06-.94 2.06-2.06.94z\"/><path d=\"M17.41 7.96l-1.37-1.37c-.4-.4-.92-.59-1.43-.59-.52 0-1.04.2-1.43.59L10.3 9.45l-7.72 7.72c-.78.78-.78 2.05 0 2.83L4 21.41c.39.39.9.59 1.41.59.51 0 1.02-.2 1.41-.59l7.78-7.78 2.81-2.81c.8-.78.8-2.07 0-2.86zM5.41 20L4 18.59l7.72-7.72 1.47 1.35L5.41 20z\"/>\n",
              "  </svg>\n",
              "      </button>\n",
              "      \n",
              "  <style>\n",
              "    .colab-df-container {\n",
              "      display:flex;\n",
              "      flex-wrap:wrap;\n",
              "      gap: 12px;\n",
              "    }\n",
              "\n",
              "    .colab-df-convert {\n",
              "      background-color: #E8F0FE;\n",
              "      border: none;\n",
              "      border-radius: 50%;\n",
              "      cursor: pointer;\n",
              "      display: none;\n",
              "      fill: #1967D2;\n",
              "      height: 32px;\n",
              "      padding: 0 0 0 0;\n",
              "      width: 32px;\n",
              "    }\n",
              "\n",
              "    .colab-df-convert:hover {\n",
              "      background-color: #E2EBFA;\n",
              "      box-shadow: 0px 1px 2px rgba(60, 64, 67, 0.3), 0px 1px 3px 1px rgba(60, 64, 67, 0.15);\n",
              "      fill: #174EA6;\n",
              "    }\n",
              "\n",
              "    [theme=dark] .colab-df-convert {\n",
              "      background-color: #3B4455;\n",
              "      fill: #D2E3FC;\n",
              "    }\n",
              "\n",
              "    [theme=dark] .colab-df-convert:hover {\n",
              "      background-color: #434B5C;\n",
              "      box-shadow: 0px 1px 3px 1px rgba(0, 0, 0, 0.15);\n",
              "      filter: drop-shadow(0px 1px 2px rgba(0, 0, 0, 0.3));\n",
              "      fill: #FFFFFF;\n",
              "    }\n",
              "  </style>\n",
              "\n",
              "      <script>\n",
              "        const buttonEl =\n",
              "          document.querySelector('#df-b706fc58-0507-4db7-a110-232630ee7b9d button.colab-df-convert');\n",
              "        buttonEl.style.display =\n",
              "          google.colab.kernel.accessAllowed ? 'block' : 'none';\n",
              "\n",
              "        async function convertToInteractive(key) {\n",
              "          const element = document.querySelector('#df-b706fc58-0507-4db7-a110-232630ee7b9d');\n",
              "          const dataTable =\n",
              "            await google.colab.kernel.invokeFunction('convertToInteractive',\n",
              "                                                     [key], {});\n",
              "          if (!dataTable) return;\n",
              "\n",
              "          const docLinkHtml = 'Like what you see? Visit the ' +\n",
              "            '<a target=\"_blank\" href=https://colab.research.google.com/notebooks/data_table.ipynb>data table notebook</a>'\n",
              "            + ' to learn more about interactive tables.';\n",
              "          element.innerHTML = '';\n",
              "          dataTable['output_type'] = 'display_data';\n",
              "          await google.colab.output.renderOutput(dataTable, element);\n",
              "          const docLink = document.createElement('div');\n",
              "          docLink.innerHTML = docLinkHtml;\n",
              "          element.appendChild(docLink);\n",
              "        }\n",
              "      </script>\n",
              "    </div>\n",
              "  </div>\n",
              "  "
            ],
            "text/plain": [
              "                    total_library_size  n_of_shows  ...  cpm_standart  cpm_premium\n",
              "total_library_size            1.000000    0.971146  ...     -0.055200    -0.071521\n",
              "n_of_shows                    0.971146    1.000000  ...      0.002285    -0.011100\n",
              "n_of_movies                   0.849957    0.699786  ...     -0.170391    -0.189711\n",
              "cpm_basic                    -0.062877   -0.003814  ...      0.898535     0.820914\n",
              "cpm_standart                 -0.055200    0.002285  ...      1.000000     0.978768\n",
              "cpm_premium                  -0.071521   -0.011100  ...      0.978768     1.000000\n",
              "\n",
              "[6 rows x 6 columns]"
            ]
          },
          "metadata": {},
          "execution_count": 25
        }
      ]
    },
    {
      "cell_type": "code",
      "source": [
        "df.corr()"
      ],
      "metadata": {
        "colab": {
          "base_uri": "https://localhost:8080/",
          "height": 238
        },
        "id": "4Ddp8JGDjzBd",
        "outputId": "4d03c7d6-dae3-480d-8e1e-ff6f4cfc7e17"
      },
      "execution_count": 26,
      "outputs": [
        {
          "output_type": "execute_result",
          "data": {
            "text/html": [
              "\n",
              "  <div id=\"df-d207226b-f43a-431a-9a08-eb56eb729d7a\">\n",
              "    <div class=\"colab-df-container\">\n",
              "      <div>\n",
              "<style scoped>\n",
              "    .dataframe tbody tr th:only-of-type {\n",
              "        vertical-align: middle;\n",
              "    }\n",
              "\n",
              "    .dataframe tbody tr th {\n",
              "        vertical-align: top;\n",
              "    }\n",
              "\n",
              "    .dataframe thead th {\n",
              "        text-align: right;\n",
              "    }\n",
              "</style>\n",
              "<table border=\"1\" class=\"dataframe\">\n",
              "  <thead>\n",
              "    <tr style=\"text-align: right;\">\n",
              "      <th></th>\n",
              "      <th>total_library_size</th>\n",
              "      <th>n_of_shows</th>\n",
              "      <th>n_of_movies</th>\n",
              "      <th>cpm_basic</th>\n",
              "      <th>cpm_standart</th>\n",
              "      <th>cpm_premium</th>\n",
              "    </tr>\n",
              "  </thead>\n",
              "  <tbody>\n",
              "    <tr>\n",
              "      <th>total_library_size</th>\n",
              "      <td>1.000000</td>\n",
              "      <td>0.971146</td>\n",
              "      <td>0.849957</td>\n",
              "      <td>-0.062877</td>\n",
              "      <td>-0.055200</td>\n",
              "      <td>-0.071521</td>\n",
              "    </tr>\n",
              "    <tr>\n",
              "      <th>n_of_shows</th>\n",
              "      <td>0.971146</td>\n",
              "      <td>1.000000</td>\n",
              "      <td>0.699786</td>\n",
              "      <td>-0.003814</td>\n",
              "      <td>0.002285</td>\n",
              "      <td>-0.011100</td>\n",
              "    </tr>\n",
              "    <tr>\n",
              "      <th>n_of_movies</th>\n",
              "      <td>0.849957</td>\n",
              "      <td>0.699786</td>\n",
              "      <td>1.000000</td>\n",
              "      <td>-0.179913</td>\n",
              "      <td>-0.170391</td>\n",
              "      <td>-0.189711</td>\n",
              "    </tr>\n",
              "    <tr>\n",
              "      <th>cpm_basic</th>\n",
              "      <td>-0.062877</td>\n",
              "      <td>-0.003814</td>\n",
              "      <td>-0.179913</td>\n",
              "      <td>1.000000</td>\n",
              "      <td>0.898535</td>\n",
              "      <td>0.820914</td>\n",
              "    </tr>\n",
              "    <tr>\n",
              "      <th>cpm_standart</th>\n",
              "      <td>-0.055200</td>\n",
              "      <td>0.002285</td>\n",
              "      <td>-0.170391</td>\n",
              "      <td>0.898535</td>\n",
              "      <td>1.000000</td>\n",
              "      <td>0.978768</td>\n",
              "    </tr>\n",
              "    <tr>\n",
              "      <th>cpm_premium</th>\n",
              "      <td>-0.071521</td>\n",
              "      <td>-0.011100</td>\n",
              "      <td>-0.189711</td>\n",
              "      <td>0.820914</td>\n",
              "      <td>0.978768</td>\n",
              "      <td>1.000000</td>\n",
              "    </tr>\n",
              "  </tbody>\n",
              "</table>\n",
              "</div>\n",
              "      <button class=\"colab-df-convert\" onclick=\"convertToInteractive('df-d207226b-f43a-431a-9a08-eb56eb729d7a')\"\n",
              "              title=\"Convert this dataframe to an interactive table.\"\n",
              "              style=\"display:none;\">\n",
              "        \n",
              "  <svg xmlns=\"http://www.w3.org/2000/svg\" height=\"24px\"viewBox=\"0 0 24 24\"\n",
              "       width=\"24px\">\n",
              "    <path d=\"M0 0h24v24H0V0z\" fill=\"none\"/>\n",
              "    <path d=\"M18.56 5.44l.94 2.06.94-2.06 2.06-.94-2.06-.94-.94-2.06-.94 2.06-2.06.94zm-11 1L8.5 8.5l.94-2.06 2.06-.94-2.06-.94L8.5 2.5l-.94 2.06-2.06.94zm10 10l.94 2.06.94-2.06 2.06-.94-2.06-.94-.94-2.06-.94 2.06-2.06.94z\"/><path d=\"M17.41 7.96l-1.37-1.37c-.4-.4-.92-.59-1.43-.59-.52 0-1.04.2-1.43.59L10.3 9.45l-7.72 7.72c-.78.78-.78 2.05 0 2.83L4 21.41c.39.39.9.59 1.41.59.51 0 1.02-.2 1.41-.59l7.78-7.78 2.81-2.81c.8-.78.8-2.07 0-2.86zM5.41 20L4 18.59l7.72-7.72 1.47 1.35L5.41 20z\"/>\n",
              "  </svg>\n",
              "      </button>\n",
              "      \n",
              "  <style>\n",
              "    .colab-df-container {\n",
              "      display:flex;\n",
              "      flex-wrap:wrap;\n",
              "      gap: 12px;\n",
              "    }\n",
              "\n",
              "    .colab-df-convert {\n",
              "      background-color: #E8F0FE;\n",
              "      border: none;\n",
              "      border-radius: 50%;\n",
              "      cursor: pointer;\n",
              "      display: none;\n",
              "      fill: #1967D2;\n",
              "      height: 32px;\n",
              "      padding: 0 0 0 0;\n",
              "      width: 32px;\n",
              "    }\n",
              "\n",
              "    .colab-df-convert:hover {\n",
              "      background-color: #E2EBFA;\n",
              "      box-shadow: 0px 1px 2px rgba(60, 64, 67, 0.3), 0px 1px 3px 1px rgba(60, 64, 67, 0.15);\n",
              "      fill: #174EA6;\n",
              "    }\n",
              "\n",
              "    [theme=dark] .colab-df-convert {\n",
              "      background-color: #3B4455;\n",
              "      fill: #D2E3FC;\n",
              "    }\n",
              "\n",
              "    [theme=dark] .colab-df-convert:hover {\n",
              "      background-color: #434B5C;\n",
              "      box-shadow: 0px 1px 3px 1px rgba(0, 0, 0, 0.15);\n",
              "      filter: drop-shadow(0px 1px 2px rgba(0, 0, 0, 0.3));\n",
              "      fill: #FFFFFF;\n",
              "    }\n",
              "  </style>\n",
              "\n",
              "      <script>\n",
              "        const buttonEl =\n",
              "          document.querySelector('#df-d207226b-f43a-431a-9a08-eb56eb729d7a button.colab-df-convert');\n",
              "        buttonEl.style.display =\n",
              "          google.colab.kernel.accessAllowed ? 'block' : 'none';\n",
              "\n",
              "        async function convertToInteractive(key) {\n",
              "          const element = document.querySelector('#df-d207226b-f43a-431a-9a08-eb56eb729d7a');\n",
              "          const dataTable =\n",
              "            await google.colab.kernel.invokeFunction('convertToInteractive',\n",
              "                                                     [key], {});\n",
              "          if (!dataTable) return;\n",
              "\n",
              "          const docLinkHtml = 'Like what you see? Visit the ' +\n",
              "            '<a target=\"_blank\" href=https://colab.research.google.com/notebooks/data_table.ipynb>data table notebook</a>'\n",
              "            + ' to learn more about interactive tables.';\n",
              "          element.innerHTML = '';\n",
              "          dataTable['output_type'] = 'display_data';\n",
              "          await google.colab.output.renderOutput(dataTable, element);\n",
              "          const docLink = document.createElement('div');\n",
              "          docLink.innerHTML = docLinkHtml;\n",
              "          element.appendChild(docLink);\n",
              "        }\n",
              "      </script>\n",
              "    </div>\n",
              "  </div>\n",
              "  "
            ],
            "text/plain": [
              "                    total_library_size  n_of_shows  ...  cpm_standart  cpm_premium\n",
              "total_library_size            1.000000    0.971146  ...     -0.055200    -0.071521\n",
              "n_of_shows                    0.971146    1.000000  ...      0.002285    -0.011100\n",
              "n_of_movies                   0.849957    0.699786  ...     -0.170391    -0.189711\n",
              "cpm_basic                    -0.062877   -0.003814  ...      0.898535     0.820914\n",
              "cpm_standart                 -0.055200    0.002285  ...      1.000000     0.978768\n",
              "cpm_premium                  -0.071521   -0.011100  ...      0.978768     1.000000\n",
              "\n",
              "[6 rows x 6 columns]"
            ]
          },
          "metadata": {},
          "execution_count": 26
        }
      ]
    },
    {
      "cell_type": "code",
      "source": [
        "sns.heatmap(df.corr())"
      ],
      "metadata": {
        "colab": {
          "base_uri": "https://localhost:8080/",
          "height": 361
        },
        "id": "0O92lZvLj3lk",
        "outputId": "19cdd72f-6b38-4278-a55d-ac0d3f1ffc4d"
      },
      "execution_count": 27,
      "outputs": [
        {
          "output_type": "execute_result",
          "data": {
            "text/plain": [
              "<matplotlib.axes._subplots.AxesSubplot at 0x7f5f5e6f3a10>"
            ]
          },
          "metadata": {},
          "execution_count": 27
        },
        {
          "output_type": "display_data",
          "data": {
            "image/png": "[encoded data removed]",
            "text/plain": [
              "<Figure size 432x288 with 2 Axes>"
            ]
          },
          "metadata": {
            "needs_background": "light"
          }
        }
      ]
    },
    {
      "cell_type": "code",
      "source": [
        "# Visualization of data\n",
        "\n",
        "fig, axes = plt.subplots(3)\n",
        "\n",
        "sns.histplot(data=df, x='cpm_basic', kde=True, ax=axes[0], color='green',)\n",
        "sns.histplot(data=df, x='cpm_standart', kde=True, ax=axes[1], color='blue')\n",
        "sns.histplot(data=df, x='cpm_premium', kde=True, ax=axes[2], color='red')\n",
        "\n",
        "sns.despine()"
      ],
      "metadata": {
        "colab": {
          "base_uri": "https://localhost:8080/",
          "height": 280
        },
        "id": "JYqBms_6j7ee",
        "outputId": "60ec505d-e0f0-4f53-9203-530ecea4983f"
      },
      "execution_count": 28,
      "outputs": [
        {
          "output_type": "display_data",
          "data": {
            "image/png": "[encoded data removed]",
            "text/plain": [
              "<Figure size 432x288 with 3 Axes>"
            ]
          },
          "metadata": {
            "needs_background": "light"
          }
        }
      ]
    },
    {
      "cell_type": "code",
      "source": [
        "top_10_basic = df.sort_values('cpm_basic', ascending=False) \\\n",
        "                .head(10)\n",
        "\n",
        "top_10_standart = df.sort_values('cpm_standart', ascending=False) \\\n",
        "                .head(10)\n",
        "\n",
        "top_10_premium = df.sort_values('cpm_premium', ascending=False) \\\n",
        "                .head(10)\n",
        "tail_10_basic = df.sort_values('cpm_basic') \\\n",
        "                .head(10)\n",
        "\n",
        "tail_10_standart = df.sort_values('cpm_standart') \\\n",
        "                .head(10)\n",
        "\n",
        "tail_10_premium = df.sort_values('cpm_premium') \\\n",
        "                .head(10)"
      ],
      "metadata": {
        "id": "pzldL9lrkA1H"
      },
      "execution_count": 29,
      "outputs": []
    },
    {
      "cell_type": "code",
      "source": [
        "fig, axes = plt.subplots(3,2, figsize=(25, 20))\n",
        "\n",
        "sns.barplot(x='country', y='cpm_basic', data=top_10_basic, ax=axes[0,0])\n",
        "sns.barplot(x='country', y='cpm_standart', data=top_10_standart, ax=axes[1,0])\n",
        "sns.barplot(x='country', y='cpm_premium', data=top_10_premium, ax=axes[2,0])\n",
        "\n",
        "sns.barplot(x='country', y='cpm_basic', data=tail_10_basic, ax=axes[0,1])\n",
        "sns.barplot(x='country', y='cpm_standart', data=tail_10_standart, ax=axes[1,1])\n",
        "sns.barplot(x='country', y='cpm_premium', data=tail_10_premium, ax=axes[2,1])\n",
        "\n",
        "sns.despine()"
      ],
      "metadata": {
        "colab": {
          "base_uri": "https://localhost:8080/",
          "height": 752
        },
        "id": "nH3YPq9SkE1h",
        "outputId": "dee30be9-71f5-468c-e2a5-0a33e940d14c"
      },
      "execution_count": 30,
      "outputs": [
        {
          "output_type": "display_data",
          "data": {
            "image/png": "[encoded data removed]",
            "text/plain": [
              "<Figure size 1800x1440 with 6 Axes>"
            ]
          },
          "metadata": {
            "needs_background": "light"
          }
        }
      ]
    },
    {
      "cell_type": "code",
      "source": [
        "df.head()"
      ],
      "metadata": {
        "colab": {
          "base_uri": "https://localhost:8080/",
          "height": 206
        },
        "id": "_q4Cp7rFkasG",
        "outputId": "f0f10b42-a1ec-417d-db9d-b8105a34049d"
      },
      "execution_count": 31,
      "outputs": [
        {
          "output_type": "execute_result",
          "data": {
            "text/html": [
              "\n",
              "  <div id=\"df-c856ebc3-6f59-4bfa-a476-1fdec49bbaed\">\n",
              "    <div class=\"colab-df-container\">\n",
              "      <div>\n",
              "<style scoped>\n",
              "    .dataframe tbody tr th:only-of-type {\n",
              "        vertical-align: middle;\n",
              "    }\n",
              "\n",
              "    .dataframe tbody tr th {\n",
              "        vertical-align: top;\n",
              "    }\n",
              "\n",
              "    .dataframe thead th {\n",
              "        text-align: right;\n",
              "    }\n",
              "</style>\n",
              "<table border=\"1\" class=\"dataframe\">\n",
              "  <thead>\n",
              "    <tr style=\"text-align: right;\">\n",
              "      <th></th>\n",
              "      <th>Country_code</th>\n",
              "      <th>country</th>\n",
              "      <th>total_library_size</th>\n",
              "      <th>n_of_shows</th>\n",
              "      <th>n_of_movies</th>\n",
              "      <th>cpm_basic</th>\n",
              "      <th>cpm_standart</th>\n",
              "      <th>cpm_premium</th>\n",
              "    </tr>\n",
              "  </thead>\n",
              "  <tbody>\n",
              "    <tr>\n",
              "      <th>0</th>\n",
              "      <td>ar</td>\n",
              "      <td>Argentina</td>\n",
              "      <td>4760</td>\n",
              "      <td>3154</td>\n",
              "      <td>1606</td>\n",
              "      <td>3.74</td>\n",
              "      <td>6.30</td>\n",
              "      <td>9.26</td>\n",
              "    </tr>\n",
              "    <tr>\n",
              "      <th>1</th>\n",
              "      <td>au</td>\n",
              "      <td>Australia</td>\n",
              "      <td>6114</td>\n",
              "      <td>4050</td>\n",
              "      <td>2064</td>\n",
              "      <td>7.84</td>\n",
              "      <td>12.12</td>\n",
              "      <td>16.39</td>\n",
              "    </tr>\n",
              "    <tr>\n",
              "      <th>2</th>\n",
              "      <td>at</td>\n",
              "      <td>Austria</td>\n",
              "      <td>5640</td>\n",
              "      <td>3779</td>\n",
              "      <td>1861</td>\n",
              "      <td>9.03</td>\n",
              "      <td>14.67</td>\n",
              "      <td>20.32</td>\n",
              "    </tr>\n",
              "    <tr>\n",
              "      <th>3</th>\n",
              "      <td>be</td>\n",
              "      <td>Belgium</td>\n",
              "      <td>4990</td>\n",
              "      <td>3374</td>\n",
              "      <td>1616</td>\n",
              "      <td>10.16</td>\n",
              "      <td>15.24</td>\n",
              "      <td>20.32</td>\n",
              "    </tr>\n",
              "    <tr>\n",
              "      <th>4</th>\n",
              "      <td>bo</td>\n",
              "      <td>Bolivia</td>\n",
              "      <td>4991</td>\n",
              "      <td>3155</td>\n",
              "      <td>1836</td>\n",
              "      <td>7.99</td>\n",
              "      <td>10.99</td>\n",
              "      <td>13.99</td>\n",
              "    </tr>\n",
              "  </tbody>\n",
              "</table>\n",
              "</div>\n",
              "      <button class=\"colab-df-convert\" onclick=\"convertToInteractive('df-c856ebc3-6f59-4bfa-a476-1fdec49bbaed')\"\n",
              "              title=\"Convert this dataframe to an interactive table.\"\n",
              "              style=\"display:none;\">\n",
              "        \n",
              "  <svg xmlns=\"http://www.w3.org/2000/svg\" height=\"24px\"viewBox=\"0 0 24 24\"\n",
              "       width=\"24px\">\n",
              "    <path d=\"M0 0h24v24H0V0z\" fill=\"none\"/>\n",
              "    <path d=\"M18.56 5.44l.94 2.06.94-2.06 2.06-.94-2.06-.94-.94-2.06-.94 2.06-2.06.94zm-11 1L8.5 8.5l.94-2.06 2.06-.94-2.06-.94L8.5 2.5l-.94 2.06-2.06.94zm10 10l.94 2.06.94-2.06 2.06-.94-2.06-.94-.94-2.06-.94 2.06-2.06.94z\"/><path d=\"M17.41 7.96l-1.37-1.37c-.4-.4-.92-.59-1.43-.59-.52 0-1.04.2-1.43.59L10.3 9.45l-7.72 7.72c-.78.78-.78 2.05 0 2.83L4 21.41c.39.39.9.59 1.41.59.51 0 1.02-.2 1.41-.59l7.78-7.78 2.81-2.81c.8-.78.8-2.07 0-2.86zM5.41 20L4 18.59l7.72-7.72 1.47 1.35L5.41 20z\"/>\n",
              "  </svg>\n",
              "      </button>\n",
              "      \n",
              "  <style>\n",
              "    .colab-df-container {\n",
              "      display:flex;\n",
              "      flex-wrap:wrap;\n",
              "      gap: 12px;\n",
              "    }\n",
              "\n",
              "    .colab-df-convert {\n",
              "      background-color: #E8F0FE;\n",
              "      border: none;\n",
              "      border-radius: 50%;\n",
              "      cursor: pointer;\n",
              "      display: none;\n",
              "      fill: #1967D2;\n",
              "      height: 32px;\n",
              "      padding: 0 0 0 0;\n",
              "      width: 32px;\n",
              "    }\n",
              "\n",
              "    .colab-df-convert:hover {\n",
              "      background-color: #E2EBFA;\n",
              "      box-shadow: 0px 1px 2px rgba(60, 64, 67, 0.3), 0px 1px 3px 1px rgba(60, 64, 67, 0.15);\n",
              "      fill: #174EA6;\n",
              "    }\n",
              "\n",
              "    [theme=dark] .colab-df-convert {\n",
              "      background-color: #3B4455;\n",
              "      fill: #D2E3FC;\n",
              "    }\n",
              "\n",
              "    [theme=dark] .colab-df-convert:hover {\n",
              "      background-color: #434B5C;\n",
              "      box-shadow: 0px 1px 3px 1px rgba(0, 0, 0, 0.15);\n",
              "      filter: drop-shadow(0px 1px 2px rgba(0, 0, 0, 0.3));\n",
              "      fill: #FFFFFF;\n",
              "    }\n",
              "  </style>\n",
              "\n",
              "      <script>\n",
              "        const buttonEl =\n",
              "          document.querySelector('#df-c856ebc3-6f59-4bfa-a476-1fdec49bbaed button.colab-df-convert');\n",
              "        buttonEl.style.display =\n",
              "          google.colab.kernel.accessAllowed ? 'block' : 'none';\n",
              "\n",
              "        async function convertToInteractive(key) {\n",
              "          const element = document.querySelector('#df-c856ebc3-6f59-4bfa-a476-1fdec49bbaed');\n",
              "          const dataTable =\n",
              "            await google.colab.kernel.invokeFunction('convertToInteractive',\n",
              "                                                     [key], {});\n",
              "          if (!dataTable) return;\n",
              "\n",
              "          const docLinkHtml = 'Like what you see? Visit the ' +\n",
              "            '<a target=\"_blank\" href=https://colab.research.google.com/notebooks/data_table.ipynb>data table notebook</a>'\n",
              "            + ' to learn more about interactive tables.';\n",
              "          element.innerHTML = '';\n",
              "          dataTable['output_type'] = 'display_data';\n",
              "          await google.colab.output.renderOutput(dataTable, element);\n",
              "          const docLink = document.createElement('div');\n",
              "          docLink.innerHTML = docLinkHtml;\n",
              "          element.appendChild(docLink);\n",
              "        }\n",
              "      </script>\n",
              "    </div>\n",
              "  </div>\n",
              "  "
            ],
            "text/plain": [
              "  Country_code    country  ...  cpm_standart  cpm_premium\n",
              "0           ar  Argentina  ...          6.30         9.26\n",
              "1           au  Australia  ...         12.12        16.39\n",
              "2           at    Austria  ...         14.67        20.32\n",
              "3           be    Belgium  ...         15.24        20.32\n",
              "4           bo    Bolivia  ...         10.99        13.99\n",
              "\n",
              "[5 rows x 8 columns]"
            ]
          },
          "metadata": {},
          "execution_count": 31
        }
      ]
    },
    {
      "cell_type": "markdown",
      "source": [
        "# conclusion\n",
        "# Switzerland and Liechtenstein pay the most for Netflix\n",
        "# Turkey and India pay the least for **Netflix**\n",
        "\n"
      ],
      "metadata": {
        "id": "cUdY79e0kpE1"
      }
    }
  ]
}